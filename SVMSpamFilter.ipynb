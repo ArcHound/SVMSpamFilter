{
 "cells": [
  {
   "cell_type": "markdown",
   "metadata": {
    "collapsed": true
   },
   "source": [
    "# SVM Spam Filter\n",
    "#### Miloslav Homer, Marek Zpěváček"
   ]
  },
  {
   "cell_type": "markdown",
   "metadata": {},
   "source": [
    "### Matematika"
   ]
  },
  {
   "cell_type": "markdown",
   "metadata": {},
   "source": [
    "#### Objective function\n",
    "\n",
    "Naším cieľom bude minimalizovať objective function:\n",
    "$$\n",
    "    J(\\alpha) = \\frac{1}{m}\\sum_{i=1}^m\\left[1-y^{(i)}K^{(i)\\top}\\alpha\\right]_+ + \\frac{\\lambda}{2}\\alpha^\\top K\\alpha,\n",
    "$$\n",
    "kde hľadáme $\\alpha$, $m$ je počet správ, $\\lambda$ je parameter, ktorý volíme na začiatku a $K$ je Gaussovský kernel, tj:\n",
    "$$\n",
    "    K(x,z)=\\operatorname{exp}\\left(-\\frac{1}{2\\tau^2}\\|x-z\\|_2^2\\right).\n",
    "$$\n",
    "Značením $[t]_+$ rozumieme $\\max{(t,0)}$."
   ]
  },
  {
   "cell_type": "markdown",
   "metadata": {},
   "source": [
    "### Parsing dát"
   ]
  },
  {
   "cell_type": "markdown",
   "metadata": {},
   "source": [
    "#### Formát vstupu\n",
    "\n",
    "Na vstupe dostaneme súbor obsahujúci (v tomto poradí):\n",
    "počet emailov, dĺžku slovníka (tj počet rôznych slov vyskytujúcich sa v týchto emailoch), slovník (oddelené medzerou), zoznam emailov. Prvé číslo je vždy buď 0 alebo 1, indikuje či je daný email spam. Ďalej zoznam čísel ukončených -1, na $i$-tej pozícii sa nachádza číslo $j$, tj $i$-te slovo emailu je $j$-te slovo slovníka."
   ]
  },
  {
   "cell_type": "code",
   "execution_count": 29,
   "metadata": {
    "collapsed": true
   },
   "outputs": [],
   "source": [
    "import numpy as np\n",
    "#np.set_printoptions(threshold=np.nan)\n",
    "import random\n",
    "import math\n",
    "from nltk.stem.porter import PorterStemmer\n",
    "import glob"
   ]
  },
  {
   "cell_type": "code",
   "execution_count": 22,
   "metadata": {
    "collapsed": true
   },
   "outputs": [],
   "source": [
    "def readData(path):\n",
    "    reader=open(path)\n",
    "    \n",
    "    # ignore first line\n",
    "    reader.readline()\n",
    "\n",
    "    # second line contains number of emails and dictionary size\n",
    "    array = reader.readline().split(' ')\n",
    "    num_of_emails = int(array[0])\n",
    "    dict_size = int(array[1])\n",
    "    \n",
    "    # ignore third line\n",
    "    reader.readline()\n",
    "    \n",
    "    x= np.zeros((num_of_emails,dict_size), dtype=np.int)\n",
    "    y= np.zeros(num_of_emails, dtype=np.int)\n",
    "    \n",
    "    # x[i,j] number of occurences of j-th word in i-th email\n",
    "    # y[i] i-th email is spam?\n",
    "    for i in range(num_of_emails):\n",
    "        array=reader.readline().split(' ')\n",
    "        int_array=[int(e) for e in array]\n",
    "        y[i]=int_array[0]\n",
    "        \n",
    "        #indexing mind*uck - check encoding.txt file \n",
    "        index=0\n",
    "        for j in range(1,int(len(array)/2)):\n",
    "            index=index+int_array[2*j-1]\n",
    "            x[i,index]=int_array[2*j]\n",
    "    reader.close()\n",
    "    return (x,y)"
   ]
  },
  {
   "cell_type": "markdown",
   "metadata": {},
   "source": [
    "Na tento formát prevediem dáta z naivne Bayesovského filtru aby sme to vedeli otestovať na nich. \n",
    "Najprv urobím stemming (na slovný základ) a vyhádžem stop-words:"
   ]
  },
  {
   "cell_type": "code",
   "execution_count": 26,
   "metadata": {
    "collapsed": false
   },
   "outputs": [],
   "source": [
    "def stemStopWords(filename):\n",
    "    porter_stemmer = PorterStemmer()\n",
    "    with open(filename, \"r\",encoding='utf-8', errors='ignore') as f:\n",
    "         return set([porter_stemmer.stem(line.rstrip('\\n')) for line in f])\n",
    "\n",
    "#load stemmed stopWords\n",
    "stopWords = stemStopWords(\"oldData/stopwords.txt\")\n",
    "\n",
    "def parseEmail(filename):\n",
    "    porter_stemmer = PorterStemmer()\n",
    "    with open(filename, \"r\",encoding='utf-8', errors='ignore') as f:\n",
    "        return set([ porter_stemmer.stem(word) for line in f for word in line.rstrip('\\n').split(' ') ]) - stopWords"
   ]
  },
  {
   "cell_type": "markdown",
   "metadata": {},
   "source": [
    "A teraz už samotná funkcia na prevod starých dát do nového formátu. Pozor tu je konvencia: nonSpam (ham) značím nulou, spam značím jednotkou."
   ]
  },
  {
   "cell_type": "code",
   "execution_count": 45,
   "metadata": {
    "collapsed": false
   },
   "outputs": [],
   "source": [
    "def emailToNum(wordList,spam,filename):\n",
    "    parsed = parseEmail(filename)\n",
    "    wList = wordList + [x for x in parsed if x not in set(wordList)]\n",
    "    a = 0\n",
    "    if spam:\n",
    "        a = 1\n",
    "    return wList,[a]+[wList.index(x)+1 for x in parsed]+[-1]\n",
    "\n",
    "def enronToNew(num):\n",
    "    mailCount = 0\n",
    "    wordList = []\n",
    "    emailList = []\n",
    "    for ham in glob.glob(\"./oldData/enron{0}/ham/*\".format(num)):\n",
    "        mailCount+=1\n",
    "        wordList, numList = emailToNum(wordList,False,ham)\n",
    "        emailList.append(numList)\n",
    "    for spam in glob.glob(\"./oldData/enron{0}/spam/*\".format(num)):\n",
    "        mailCount+=1\n",
    "        wordList, numList = emailToNum(wordList,True,spam)\n",
    "        emailList.append(numList)\n",
    "    #return #emails, #different words, dictionary\n",
    "    return mailCount,len(wordList),wordList,emailList\n",
    "\n",
    "def printEnron(num):\n",
    "    mailcount, wlen, wList, eList = enronToNew(num)\n",
    "    f = open(\"oldData/enronTrain.{0}\".format(num),\"w\")\n",
    "    f.write(\"enron{0}\\n\".format(num))\n",
    "    f.write(str(mailcount)+\" \"+str(wlen)+\"\\n\")\n",
    "    f.write(\" \".join(wList)+\"\\n\")\n",
    "    for email in eList:\n",
    "        f.write(\" \".join(str(i) for i in email))\n",
    "    f.close()"
   ]
  },
  {
   "cell_type": "code",
   "execution_count": 46,
   "metadata": {
    "collapsed": false
   },
   "outputs": [
    {
     "ename": "KeyboardInterrupt",
     "evalue": "",
     "output_type": "error",
     "traceback": [
      "\u001b[0;31m---------------------------------------------------------------------------\u001b[0m",
      "\u001b[0;31mKeyboardInterrupt\u001b[0m                         Traceback (most recent call last)",
      "\u001b[0;32m<ipython-input-46-c97eb4a1eb91>\u001b[0m in \u001b[0;36m<module>\u001b[0;34m()\u001b[0m\n\u001b[1;32m      1\u001b[0m \u001b[0;32mfor\u001b[0m \u001b[0mi\u001b[0m \u001b[0;32min\u001b[0m \u001b[0mrange\u001b[0m\u001b[0;34m(\u001b[0m\u001b[0;36m6\u001b[0m\u001b[0;34m)\u001b[0m\u001b[0;34m:\u001b[0m\u001b[0;34m\u001b[0m\u001b[0m\n\u001b[0;32m----> 2\u001b[0;31m     \u001b[0mprintEnron\u001b[0m\u001b[0;34m(\u001b[0m\u001b[0mi\u001b[0m\u001b[0;34m+\u001b[0m\u001b[0;36m1\u001b[0m\u001b[0;34m)\u001b[0m\u001b[0;34m\u001b[0m\u001b[0m\n\u001b[0m",
      "\u001b[0;32m<ipython-input-45-5397edf0dd46>\u001b[0m in \u001b[0;36mprintEnron\u001b[0;34m(num)\u001b[0m\n\u001b[1;32m     23\u001b[0m \u001b[0;34m\u001b[0m\u001b[0m\n\u001b[1;32m     24\u001b[0m \u001b[0;32mdef\u001b[0m \u001b[0mprintEnron\u001b[0m\u001b[0;34m(\u001b[0m\u001b[0mnum\u001b[0m\u001b[0;34m)\u001b[0m\u001b[0;34m:\u001b[0m\u001b[0;34m\u001b[0m\u001b[0m\n\u001b[0;32m---> 25\u001b[0;31m     \u001b[0mmailcount\u001b[0m\u001b[0;34m,\u001b[0m \u001b[0mwlen\u001b[0m\u001b[0;34m,\u001b[0m \u001b[0mwList\u001b[0m\u001b[0;34m,\u001b[0m \u001b[0meList\u001b[0m \u001b[0;34m=\u001b[0m \u001b[0menronToNew\u001b[0m\u001b[0;34m(\u001b[0m\u001b[0mnum\u001b[0m\u001b[0;34m)\u001b[0m\u001b[0;34m\u001b[0m\u001b[0m\n\u001b[0m\u001b[1;32m     26\u001b[0m     \u001b[0mf\u001b[0m \u001b[0;34m=\u001b[0m \u001b[0mopen\u001b[0m\u001b[0;34m(\u001b[0m\u001b[0;34m\"oldData/enronTrain.{0}\"\u001b[0m\u001b[0;34m.\u001b[0m\u001b[0mformat\u001b[0m\u001b[0;34m(\u001b[0m\u001b[0mnum\u001b[0m\u001b[0;34m)\u001b[0m\u001b[0;34m,\u001b[0m\u001b[0;34m\"w\"\u001b[0m\u001b[0;34m)\u001b[0m\u001b[0;34m\u001b[0m\u001b[0m\n\u001b[1;32m     27\u001b[0m     \u001b[0mf\u001b[0m\u001b[0;34m.\u001b[0m\u001b[0mwrite\u001b[0m\u001b[0;34m(\u001b[0m\u001b[0;34m\"enron{0}\\n\"\u001b[0m\u001b[0;34m.\u001b[0m\u001b[0mformat\u001b[0m\u001b[0;34m(\u001b[0m\u001b[0mnum\u001b[0m\u001b[0;34m)\u001b[0m\u001b[0;34m)\u001b[0m\u001b[0;34m\u001b[0m\u001b[0m\n",
      "\u001b[0;32m<ipython-input-45-5397edf0dd46>\u001b[0m in \u001b[0;36menronToNew\u001b[0;34m(num)\u001b[0m\n\u001b[1;32m     13\u001b[0m     \u001b[0;32mfor\u001b[0m \u001b[0mham\u001b[0m \u001b[0;32min\u001b[0m \u001b[0mglob\u001b[0m\u001b[0;34m.\u001b[0m\u001b[0mglob\u001b[0m\u001b[0;34m(\u001b[0m\u001b[0;34m\"./oldData/enron{0}/ham/*\"\u001b[0m\u001b[0;34m.\u001b[0m\u001b[0mformat\u001b[0m\u001b[0;34m(\u001b[0m\u001b[0mnum\u001b[0m\u001b[0;34m)\u001b[0m\u001b[0;34m)\u001b[0m\u001b[0;34m:\u001b[0m\u001b[0;34m\u001b[0m\u001b[0m\n\u001b[1;32m     14\u001b[0m         \u001b[0mmailCount\u001b[0m\u001b[0;34m+=\u001b[0m\u001b[0;36m1\u001b[0m\u001b[0;34m\u001b[0m\u001b[0m\n\u001b[0;32m---> 15\u001b[0;31m         \u001b[0mwordList\u001b[0m\u001b[0;34m,\u001b[0m \u001b[0mnumList\u001b[0m \u001b[0;34m=\u001b[0m \u001b[0memailToNum\u001b[0m\u001b[0;34m(\u001b[0m\u001b[0mwordList\u001b[0m\u001b[0;34m,\u001b[0m\u001b[0;32mFalse\u001b[0m\u001b[0;34m,\u001b[0m\u001b[0mham\u001b[0m\u001b[0;34m)\u001b[0m\u001b[0;34m\u001b[0m\u001b[0m\n\u001b[0m\u001b[1;32m     16\u001b[0m         \u001b[0memailList\u001b[0m\u001b[0;34m.\u001b[0m\u001b[0mappend\u001b[0m\u001b[0;34m(\u001b[0m\u001b[0mnumList\u001b[0m\u001b[0;34m)\u001b[0m\u001b[0;34m\u001b[0m\u001b[0m\n\u001b[1;32m     17\u001b[0m     \u001b[0;32mfor\u001b[0m \u001b[0mspam\u001b[0m \u001b[0;32min\u001b[0m \u001b[0mglob\u001b[0m\u001b[0;34m.\u001b[0m\u001b[0mglob\u001b[0m\u001b[0;34m(\u001b[0m\u001b[0;34m\"./oldData/enron{0}/spam/*\"\u001b[0m\u001b[0;34m.\u001b[0m\u001b[0mformat\u001b[0m\u001b[0;34m(\u001b[0m\u001b[0mnum\u001b[0m\u001b[0;34m)\u001b[0m\u001b[0;34m)\u001b[0m\u001b[0;34m:\u001b[0m\u001b[0;34m\u001b[0m\u001b[0m\n",
      "\u001b[0;32m<ipython-input-45-5397edf0dd46>\u001b[0m in \u001b[0;36memailToNum\u001b[0;34m(wordList, spam, filename)\u001b[0m\n\u001b[1;32m      1\u001b[0m \u001b[0;32mdef\u001b[0m \u001b[0memailToNum\u001b[0m\u001b[0;34m(\u001b[0m\u001b[0mwordList\u001b[0m\u001b[0;34m,\u001b[0m\u001b[0mspam\u001b[0m\u001b[0;34m,\u001b[0m\u001b[0mfilename\u001b[0m\u001b[0;34m)\u001b[0m\u001b[0;34m:\u001b[0m\u001b[0;34m\u001b[0m\u001b[0m\n\u001b[1;32m      2\u001b[0m     \u001b[0mparsed\u001b[0m \u001b[0;34m=\u001b[0m \u001b[0mparseEmail\u001b[0m\u001b[0;34m(\u001b[0m\u001b[0mfilename\u001b[0m\u001b[0;34m)\u001b[0m\u001b[0;34m\u001b[0m\u001b[0m\n\u001b[0;32m----> 3\u001b[0;31m     \u001b[0mwList\u001b[0m \u001b[0;34m=\u001b[0m \u001b[0mwordList\u001b[0m \u001b[0;34m+\u001b[0m \u001b[0;34m[\u001b[0m\u001b[0mx\u001b[0m \u001b[0;32mfor\u001b[0m \u001b[0mx\u001b[0m \u001b[0;32min\u001b[0m \u001b[0mparsed\u001b[0m \u001b[0;32mif\u001b[0m \u001b[0mx\u001b[0m \u001b[0;32mnot\u001b[0m \u001b[0;32min\u001b[0m \u001b[0mset\u001b[0m\u001b[0;34m(\u001b[0m\u001b[0mwordList\u001b[0m\u001b[0;34m)\u001b[0m\u001b[0;34m]\u001b[0m\u001b[0;34m\u001b[0m\u001b[0m\n\u001b[0m\u001b[1;32m      4\u001b[0m     \u001b[0ma\u001b[0m \u001b[0;34m=\u001b[0m \u001b[0;36m0\u001b[0m\u001b[0;34m\u001b[0m\u001b[0m\n\u001b[1;32m      5\u001b[0m     \u001b[0;32mif\u001b[0m \u001b[0mspam\u001b[0m\u001b[0;34m:\u001b[0m\u001b[0;34m\u001b[0m\u001b[0m\n",
      "\u001b[0;32m<ipython-input-45-5397edf0dd46>\u001b[0m in \u001b[0;36m<listcomp>\u001b[0;34m(.0)\u001b[0m\n\u001b[1;32m      1\u001b[0m \u001b[0;32mdef\u001b[0m \u001b[0memailToNum\u001b[0m\u001b[0;34m(\u001b[0m\u001b[0mwordList\u001b[0m\u001b[0;34m,\u001b[0m\u001b[0mspam\u001b[0m\u001b[0;34m,\u001b[0m\u001b[0mfilename\u001b[0m\u001b[0;34m)\u001b[0m\u001b[0;34m:\u001b[0m\u001b[0;34m\u001b[0m\u001b[0m\n\u001b[1;32m      2\u001b[0m     \u001b[0mparsed\u001b[0m \u001b[0;34m=\u001b[0m \u001b[0mparseEmail\u001b[0m\u001b[0;34m(\u001b[0m\u001b[0mfilename\u001b[0m\u001b[0;34m)\u001b[0m\u001b[0;34m\u001b[0m\u001b[0m\n\u001b[0;32m----> 3\u001b[0;31m     \u001b[0mwList\u001b[0m \u001b[0;34m=\u001b[0m \u001b[0mwordList\u001b[0m \u001b[0;34m+\u001b[0m \u001b[0;34m[\u001b[0m\u001b[0mx\u001b[0m \u001b[0;32mfor\u001b[0m \u001b[0mx\u001b[0m \u001b[0;32min\u001b[0m \u001b[0mparsed\u001b[0m \u001b[0;32mif\u001b[0m \u001b[0mx\u001b[0m \u001b[0;32mnot\u001b[0m \u001b[0;32min\u001b[0m \u001b[0mset\u001b[0m\u001b[0;34m(\u001b[0m\u001b[0mwordList\u001b[0m\u001b[0;34m)\u001b[0m\u001b[0;34m]\u001b[0m\u001b[0;34m\u001b[0m\u001b[0m\n\u001b[0m\u001b[1;32m      4\u001b[0m     \u001b[0ma\u001b[0m \u001b[0;34m=\u001b[0m \u001b[0;36m0\u001b[0m\u001b[0;34m\u001b[0m\u001b[0m\n\u001b[1;32m      5\u001b[0m     \u001b[0;32mif\u001b[0m \u001b[0mspam\u001b[0m\u001b[0;34m:\u001b[0m\u001b[0;34m\u001b[0m\u001b[0m\n",
      "\u001b[0;31mKeyboardInterrupt\u001b[0m: "
     ]
    }
   ],
   "source": [
    "for i in range(6):\n",
    "    printEnron(i+1)"
   ]
  },
  {
   "cell_type": "markdown",
   "metadata": {},
   "source": [
    "### Learning fáza"
   ]
  },
  {
   "cell_type": "markdown",
   "metadata": {},
   "source": [
    "Potrebujeme zvoliť dve konštanty: počet krokov zostupu (`num_outer_loops`) a regularizačný parameter (`lam`). \n",
    "Regularizačný parameter označuje ako veľmi nám vadí keď daný email nespĺňa klasifikáciu a vôbec nie je jasné ako ho vybrať.\n",
    "V zadaní písali $\\lambda = \\frac{1}{64m}$, tak im budeme veriť. Ale hodnotu (`lam`) nastavíme na 64 a nie 64$m$ lebo z aritmetických operácií zistíme, že $m$ vypadne."
   ]
  },
  {
   "cell_type": "code",
   "execution_count": 16,
   "metadata": {
    "collapsed": true
   },
   "outputs": [],
   "source": [
    "num_outer_loops = 40\n",
    "lam = 64 #lambda is a reserved word in python"
   ]
  },
  {
   "cell_type": "markdown",
   "metadata": {},
   "source": [
    "Najprv musíme vedieť spočítať Gaussian Kernel podľa vzorca:\n",
    "$$\n",
    "K(x,z)=\\operatorname{exp}\\left(-\\frac{1}{2\\tau^2}\\|x-z\\|_2^2\\right).\n",
    "$$"
   ]
  },
  {
   "cell_type": "code",
   "execution_count": 17,
   "metadata": {
    "collapsed": false
   },
   "outputs": [],
   "source": [
    "def gaussKernel(a,b):\n",
    "    Ker=np.zeros((len(a),len(b)))\n",
    "    for i in range(len(a)):\n",
    "        for j in range(len(b)): \n",
    "            Ker[i,j]=np.exp(-(np.linalg.norm(a[i]-b[j],2))**2/(2*tau*tau))\n",
    "    return Ker"
   ]
  },
  {
   "cell_type": "markdown",
   "metadata": {},
   "source": [
    "Výuková fáza prebieha pomocou stochastického gradientového zostupu (stochastic gradient descent).\n",
    "V každom kroku zvolíme náhodne smer zostupu. \n",
    "Dôležitou súčasťou je tkz. learning rate (v tomto prípade $\\frac{1}{\\sqrt{i+1}}$ kde $i$ označuje číslo kroku (+1 preto, lebo počítame od nuly aby sme nedelili nulou)).\n",
    "Priemer z postupných hodnôt $\\alpha$ počítame aby sme dostali trochu lepší odhad, presnejšie sa to dá nájsť v (Polyak, Boris T.; Juditsky, Anatoli B. (1992). \"Acceleration of stochastic approximation by averaging\". SIAM J. Control and Optimization.)."
   ]
  },
  {
   "cell_type": "code",
   "execution_count": 27,
   "metadata": {
    "collapsed": true
   },
   "outputs": [],
   "source": [
    "def learnSVM(x,y):\n",
    "    #init\n",
    "    m=len(y)\n",
    "    x=1*(x>0)\n",
    "    y=2*y-1\n",
    "    alpha=np.zeros(m)\n",
    "    avg_alpha = np.zeros(m)\n",
    "    #compute kernel\n",
    "    Ker = gaussKernel(x,x)\n",
    "    #stochastic gradient descent\n",
    "    for i in range(num_outer_loops * m):\n",
    "        #choose a direction\n",
    "        index = random.randint(0,m-1)\n",
    "        #compute gradient g\n",
    "        margin=y[index]*np.dot(Ker[index],alpha)\n",
    "        g=np.dot(Ker[index],alpha[index])/lam-(margin<1)*y[index]*Ker[index]    \n",
    "        #apply gradient\n",
    "        alpha=alpha-g/math.sqrt(i+1)\n",
    "        avg_alpha+=alpha\n",
    "        \n",
    "    avg_alpha=avg_alpha/(num_outer_loops*m)\n",
    "    \n",
    "    return avg_alpha"
   ]
  },
  {
   "cell_type": "markdown",
   "metadata": {},
   "source": [
    "### Testovacia fáza"
   ]
  },
  {
   "cell_type": "code",
   "execution_count": 19,
   "metadata": {
    "collapsed": true
   },
   "outputs": [],
   "source": [
    "def testSVM(x_test,y_test,avg_alpha,x_train):\n",
    "    #shorten vectors\n",
    "    x_test = 1*(x_test>0)\n",
    "    x_train = 1*(x_train>0)\n",
    "    y_test=2*y_test-1\n",
    "    #compute kernel\n",
    "    Ker = gaussKernel(x_test,x_train)\n",
    "    #decide\n",
    "    preds = np.dot(Ker,avg_alpha)\n",
    "    test_err=np.sum((np.multiply(preds,y_test))<=0)/len(y_test)\n",
    "    return test_err"
   ]
  },
  {
   "cell_type": "markdown",
   "metadata": {},
   "source": [
    "### Testy a výsledky"
   ]
  },
  {
   "cell_type": "code",
   "execution_count": 20,
   "metadata": {
    "collapsed": true
   },
   "outputs": [],
   "source": [
    "tau = 8\n",
    "num_of_tests = 1\n",
    "testSizes = ['50', '100', '200', '400', '800', '1400']\n",
    "#testSizes = ['50','1400']"
   ]
  },
  {
   "cell_type": "code",
   "execution_count": 28,
   "metadata": {
    "collapsed": false
   },
   "outputs": [
    {
     "name": "stdout",
     "output_type": "stream",
     "text": [
      "Train size: 50 Error: 0.01625\n",
      "Train size: 100 Error: 0.0075\n",
      "Train size: 200 Error: 0.00375\n",
      "Train size: 400 Error: 0.0025\n",
      "Train size: 800 Error: 0.0\n",
      "Train size: 1400 Error: 0.0\n"
     ]
    }
   ],
   "source": [
    "(m_test, category_test) = readData('spam_data/MATRIX.TEST')\n",
    "for size in testSizes:\n",
    "    err = 0\n",
    "    for i in range(num_of_tests):\n",
    "        (m_train, y_train) = readData('spam_data/MATRIX.TRAIN.' + size)\n",
    "        avg_alpha = learnSVM(m_train, y_train)\n",
    "        #print(avg_alpha)\n",
    "        err += testSVM(m_test, category_test, avg_alpha, m_train)\n",
    "        #print(err)\n",
    "    err = err / num_of_tests\n",
    "    print('Train size:', size, 'Error:', err)\n",
    "    \n",
    "(m_test, category_test) = readData('spam_data/enronTrain.6')\n",
    "for i in range(5):\n",
    "    err = 0\n",
    "    for i in range(num_of_tests):\n",
    "        (m_train, y_train) = readData('oldData/enronTrain.' + size)\n",
    "        avg_alpha = learnSVM(m_train, y_train)\n",
    "        err += testSVM(m_test, category_test, avg_alpha, m_train)\n",
    "    err = err / num_of_tests\n",
    "    print('Train size:', size, 'Error:', err)"
   ]
  }
 ],
 "metadata": {
  "kernelspec": {
   "display_name": "Python 3",
   "language": "python",
   "name": "python3"
  },
  "language_info": {
   "codemirror_mode": {
    "name": "ipython",
    "version": 3
   },
   "file_extension": ".py",
   "mimetype": "text/x-python",
   "name": "python",
   "nbconvert_exporter": "python",
   "pygments_lexer": "ipython3",
   "version": "3.4.2"
  }
 },
 "nbformat": 4,
 "nbformat_minor": 1
}
