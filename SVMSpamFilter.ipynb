{
 "cells": [
  {
   "cell_type": "markdown",
   "metadata": {
    "collapsed": true
   },
   "source": [
    "# SVM Spam Filter\n",
    "#### Miloslav Homer, Marek Zpěváček"
   ]
  },
  {
   "cell_type": "markdown",
   "metadata": {},
   "source": [
    "### Matematika"
   ]
  },
  {
   "cell_type": "markdown",
   "metadata": {},
   "source": [
    "#### Objective function\n",
    "\n",
    "Naším cieľom bude minimalizovať objective function:\n",
    "$$\n",
    "    J(\\alpha) = \\frac{1}{m}\\sum_{i=1}^m\\left[1-y^{(i)}K^{(i)\\top}\\alpha\\right]_+ + \\frac{\\lambda}{2}\\alpha^\\top K\\alpha,\n",
    "$$\n",
    "kde hľadáme $\\alpha$, $m$ je počet správ, $\\lambda$ je parameter, ktorý volíme na začiatku a $K$ je Gaussovský kernel, tj:\n",
    "$$\n",
    "    K(x,z)=\\operatorname{exp}\\left(-\\frac{1}{2\\tau^2}\\|x-z\\|_2^2\\right).\n",
    "$$\n",
    "Značením $[t]_+$ rozumieme $\\max{(t,0)}$."
   ]
  },
  {
   "cell_type": "markdown",
   "metadata": {},
   "source": [
    "### Parsing dát"
   ]
  },
  {
   "cell_type": "markdown",
   "metadata": {},
   "source": [
    "#### Formát vstupu\n",
    "\n",
    "Na vstupe dostaneme súbor obsahujúci (v tomto poradí):\n",
    "počet emailov, dĺžku slovníka (tj počet rôznych slov vyskytujúcich sa v týchto emailoch), slovník (oddelené medzerou), zoznam emailov. Prvé číslo je vždy buď 0 alebo 1, indikuje či je daný email spam. Ďalej zoznam čísel ukončených -1, na $i$-tej pozícii sa nachádza číslo $j$, tj $i$-te slovo emailu je $j$-te slovo slovníka."
   ]
  },
  {
   "cell_type": "markdown",
   "metadata": {},
   "source": [
    "### Learning fáza"
   ]
  },
  {
   "cell_type": "markdown",
   "metadata": {},
   "source": [
    "### Testovacia fáza"
   ]
  },
  {
   "cell_type": "markdown",
   "metadata": {},
   "source": [
    "### Testy a výsledky"
   ]
  }
 ],
 "metadata": {
  "kernelspec": {
   "display_name": "Python 3",
   "language": "python",
   "name": "python3"
  },
  "language_info": {
   "codemirror_mode": {
    "name": "ipython",
    "version": 3
   },
   "file_extension": ".py",
   "mimetype": "text/x-python",
   "name": "python",
   "nbconvert_exporter": "python",
   "pygments_lexer": "ipython3",
   "version": "3.4.2"
  }
 },
 "nbformat": 4,
 "nbformat_minor": 1
}
