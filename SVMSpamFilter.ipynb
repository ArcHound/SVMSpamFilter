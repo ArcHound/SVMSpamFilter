{
 "cells": [
  {
   "cell_type": "markdown",
   "metadata": {
    "collapsed": true
   },
   "source": [
    "# SVM Spam Filter\n",
    "#### Miloslav Homer, Marek Zpěváček"
   ]
  },
  {
   "cell_type": "markdown",
   "metadata": {},
   "source": [
    "### Matematika"
   ]
  },
  {
   "cell_type": "markdown",
   "metadata": {},
   "source": [
    "#### Objective function\n",
    "\n",
    "Naším cieľom bude minimalizovať objective function:\n",
    "$$\n",
    "    J(\\alpha) = \\frac{1}{m}\\sum_{i=1}^m\\left[1-y^{(i)}K^{(i)\\top}\\alpha\\right]_+ + \\frac{\\lambda}{2}\\alpha^\\top K\\alpha,\n",
    "$$\n",
    "kde hľadáme $\\alpha$, $m$ je počet správ, $\\lambda$ je parameter, ktorý volíme na začiatku a $K$ je Gaussovský kernel, tj:\n",
    "$$\n",
    "    K(x,z)=\\operatorname{exp}\\left(-\\frac{1}{2\\tau^2}\\|x-z\\|_2^2\\right).\n",
    "$$\n",
    "Značením $[t]_+$ rozumieme $\\max{(t,0)}$."
   ]
  },
  {
   "cell_type": "markdown",
   "metadata": {},
   "source": [
    "### Parsing dát"
   ]
  },
  {
   "cell_type": "markdown",
   "metadata": {},
   "source": [
    "#### Formát vstupu\n",
    "\n",
    "Na vstupe dostaneme súbor obsahujúci (v tomto poradí):\n",
    "počet emailov, dĺžku slovníka (tj počet rôznych slov vyskytujúcich sa v týchto emailoch), slovník (oddelené medzerou), zoznam emailov. Prvé číslo je vždy buď 0 alebo 1, indikuje či je daný email spam. Ďalej zoznam čísel ukončených -1, na $i$-tej pozícii sa nachádza číslo $j$, tj $i$-te slovo emailu je $j$-te slovo slovníka."
   ]
  },
  {
   "cell_type": "code",
   "execution_count": 14,
   "metadata": {
    "collapsed": true
   },
   "outputs": [],
   "source": [
    "import numpy as np\n",
    "#np.set_printoptions(threshold=np.nan)\n",
    "import random\n",
    "import math"
   ]
  },
  {
   "cell_type": "code",
   "execution_count": 15,
   "metadata": {
    "collapsed": true
   },
   "outputs": [],
   "source": [
    "def readData(path):\n",
    "    reader=open(path)\n",
    "    \n",
    "    # ignore first line\n",
    "    reader.readline()\n",
    "\n",
    "    # second line contains number of emails and dictionary size\n",
    "    array = reader.readline().split(' ')\n",
    "    num_of_emails = int(array[0])\n",
    "    dict_size = int(array[1])\n",
    "    \n",
    "    # ignore third line\n",
    "    reader.readline()\n",
    "    \n",
    "    x= np.zeros((num_of_emails,dict_size), dtype=np.int)\n",
    "    y= np.zeros(num_of_emails, dtype=np.int)\n",
    "    \n",
    "    # x[i,j] number of occurences of j-th word in i-th email\n",
    "    # y[i] i-th email is spam?\n",
    "    for i in range(num_of_emails):\n",
    "        array=reader.readline().split(' ')\n",
    "        int_array=[int(e) for e in array]\n",
    "        y[i]=int_array[0]\n",
    "        \n",
    "        #indexing mind*uck - check encoding.txt file \n",
    "        index=0\n",
    "        for j in range(1,int(len(array)/2)):\n",
    "            index=index+int_array[2*j-1]\n",
    "            x[i,index]=int_array[2*j]\n",
    "    reader.close()\n",
    "    return (x,y)"
   ]
  },
  {
   "cell_type": "markdown",
   "metadata": {},
   "source": [
    "### Learning fáza"
   ]
  },
  {
   "cell_type": "markdown",
   "metadata": {},
   "source": [
    "Potrebujeme zvoliť dve konštanty: počet krokov zostupu (`num_outer_loops`) a regularizačný parameter (`lam`). \n",
    "Regularizačný parameter označuje ako veľmi nám vadí keď daný email nespĺňa klasifikáciu a vôbec nie je jasné ako ho vybrať.\n",
    "V zadaní písali $\\lambda = \\frac{1}{64m}$, tak im budeme veriť."
   ]
  },
  {
   "cell_type": "code",
   "execution_count": 16,
   "metadata": {
    "collapsed": true
   },
   "outputs": [],
   "source": [
    "num_outer_loops = 40\n",
    "lam = 64 #lambda is a reserved word in python"
   ]
  },
  {
   "cell_type": "markdown",
   "metadata": {},
   "source": [
    "Najprv musíme vedieť spočítať Gaussian Kernel podľa vzorca:\n",
    "$$\n",
    "K(x,z)=\\operatorname{exp}\\left(-\\frac{1}{2\\tau^2}\\|x-z\\|_2^2\\right).\n",
    "$$"
   ]
  },
  {
   "cell_type": "code",
   "execution_count": 17,
   "metadata": {
    "collapsed": false
   },
   "outputs": [],
   "source": [
    "def gaussKernel(a,b):\n",
    "    Ker=np.zeros((len(a),len(b)))\n",
    "    for i in range(len(a)):\n",
    "        for j in range(len(b)): \n",
    "            Ker[i,j]=np.exp(-(np.linalg.norm(a[i]-b[j],2))**2/(2*tau*tau))\n",
    "    return Ker"
   ]
  },
  {
   "cell_type": "markdown",
   "metadata": {},
   "source": [
    "Výuková fáza prebieha pomocou stochastického gradientového zostupu (stochastic gradient descent).\n",
    "V každom kroku zvolíme náhodne smer zostupu (dá sa na to pozrieť aj tak, že si náhodne zvolíme dáta ktorými sa budeme zaoberať). \n",
    "Dôležitou súčasťou je tkz. learning rate (v tomto prípade $\\frac{1}{\\sqrt{i+1}}$ kde $i$ označuje číslo kroku (+1 preto, lebo počítame od nuly aby sme nedelili nulou))."
   ]
  },
  {
   "cell_type": "code",
   "execution_count": 18,
   "metadata": {
    "collapsed": true
   },
   "outputs": [],
   "source": [
    "def learnSVM(x,y):\n",
    "    #init\n",
    "    m=len(y)\n",
    "    x=1*(x>0)\n",
    "    y=2*y-1\n",
    "    alpha=np.zeros(m)\n",
    "    avg_alpha = np.zeros(m)\n",
    "    #compute kernel\n",
    "    Ker = gaussKernel(x,x)\n",
    "    #stochastic gradient descent\n",
    "    for i in range(num_outer_loops * m):\n",
    "        #choose a direction\n",
    "        index = random.randint(0,m-1)\n",
    "        #compute gradient g\n",
    "        margin=y[index]*np.dot(Ker[index],alpha)\n",
    "        g=np.dot(Ker[index],alpha[index])/(m*lam)-(margin<1)*y[index]*Ker[index]    \n",
    "        #apply gradient\n",
    "        alpha=alpha-g/math.sqrt(i+1)\n",
    "        avg_alpha+=alpha\n",
    "        \n",
    "    avg_alpha=avg_alpha/(num_outer_loops*m)\n",
    "    \n",
    "    return avg_alpha"
   ]
  },
  {
   "cell_type": "markdown",
   "metadata": {},
   "source": [
    "### Testovacia fáza"
   ]
  },
  {
   "cell_type": "code",
   "execution_count": 19,
   "metadata": {
    "collapsed": true
   },
   "outputs": [],
   "source": [
    "def testSVM(x_test,y_test,avg_alpha,x_train):\n",
    "    #shorten vectors\n",
    "    x_test = 1*(x_test>0)\n",
    "    x_train = 1*(x_train>0)\n",
    "    y_test=2*y_test-1\n",
    "    #compute kernel\n",
    "    Ker = gaussKernel(x_test,x_train)\n",
    "    #decide\n",
    "    preds = np.dot(Ker,avg_alpha)\n",
    "    test_err=np.sum((np.multiply(preds,y_test))<=0)/len(y_test)\n",
    "    return test_err"
   ]
  },
  {
   "cell_type": "markdown",
   "metadata": {},
   "source": [
    "### Testy a výsledky"
   ]
  },
  {
   "cell_type": "code",
   "execution_count": 20,
   "metadata": {
    "collapsed": true
   },
   "outputs": [],
   "source": [
    "tau = 8\n",
    "num_of_tests = 1\n",
    "testSizes = ['50', '100', '200', '400', '800', '1400']\n",
    "#testSizes = ['50','1400']"
   ]
  },
  {
   "cell_type": "code",
   "execution_count": 21,
   "metadata": {
    "collapsed": false
   },
   "outputs": [
    {
     "name": "stdout",
     "output_type": "stream",
     "text": [
      "Train size: 50 Error: 0.01125\n",
      "Train size: 100 Error: 0.015\n",
      "Train size: 200 Error: 0.0025\n",
      "Train size: 400 Error: 0.00375\n",
      "Train size: 800 Error: 0.0\n",
      "Train size: 1400 Error: 0.0\n"
     ]
    }
   ],
   "source": [
    "(m_test, category_test) = readData('spam_data/MATRIX.TEST')\n",
    "for size in testSizes:\n",
    "    err = 0\n",
    "    for i in range(num_of_tests):\n",
    "        (m_train, y_train) = readData('spam_data/MATRIX.TRAIN.' + size)\n",
    "        avg_alpha = learnSVM(m_train, y_train)\n",
    "        #print(avg_alpha)\n",
    "        err += testSVM(m_test, category_test, avg_alpha, m_train)\n",
    "        #print(err)\n",
    "    err = err / num_of_tests\n",
    "    print('Train size:', size, 'Error:', err)"
   ]
  }
 ],
 "metadata": {
  "kernelspec": {
   "display_name": "Python 3",
   "language": "python",
   "name": "python3"
  },
  "language_info": {
   "codemirror_mode": {
    "name": "ipython",
    "version": 3
   },
   "file_extension": ".py",
   "mimetype": "text/x-python",
   "name": "python",
   "nbconvert_exporter": "python",
   "pygments_lexer": "ipython3",
   "version": "3.4.2"
  }
 },
 "nbformat": 4,
 "nbformat_minor": 1
}
